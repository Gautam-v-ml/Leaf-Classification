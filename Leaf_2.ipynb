{
 "cells": [
  {
   "cell_type": "code",
   "execution_count": 1,
   "metadata": {
    "collapsed": false
   },
   "outputs": [
    {
     "name": "stderr",
     "output_type": "stream",
     "text": [
      "C:\\Users\\Gauty\\Anaconda3\\lib\\site-packages\\sklearn\\cross_validation.py:44: DeprecationWarning: This module was deprecated in version 0.18 in favor of the model_selection module into which all the refactored classes and functions are moved. Also note that the interface of the new CV iterators are different from that of this module. This module will be removed in 0.20.\n",
      "  \"This module will be removed in 0.20.\", DeprecationWarning)\n"
     ]
    }
   ],
   "source": [
    "import numpy as np\n",
    "import pandas as pd\n",
    "from sklearn.preprocessing import LabelEncoder, StandardScaler \n",
    "from sklearn.cross_validation import StratifiedShuffleSplit\n",
    "from sklearn.discriminant_analysis import LinearDiscriminantAnalysis, QuadraticDiscriminantAnalysis\n",
    "from sklearn.neighbors import KNeighborsClassifier\n",
    "from sklearn.svm import SVC, LinearSVC, NuSVC\n",
    "from sklearn.ensemble import AdaBoostClassifier, GradientBoostingClassifier, RandomForestClassifier\n",
    "from sklearn.tree import DecisionTreeClassifier\n",
    "from sklearn.naive_bayes import GaussianNB\n",
    "from sklearn.metrics import accuracy_score, log_loss\n",
    "\n",
    "def warn(*args, **kwargs): pass\n",
    "import warnings\n",
    "warnings.warn = warn"
   ]
  },
  {
   "cell_type": "code",
   "execution_count": 2,
   "metadata": {
    "collapsed": true
   },
   "outputs": [],
   "source": [
    "train_df = pd.read_csv(\"D:/kaggle/Leaf Classification/train.csv\")\n",
    "\n",
    "label_encoder = LabelEncoder().fit(train_df['species'])\n",
    "labels = label_encoder.transform(train_df['species'])\n",
    "train_df = train_df.drop(['id', 'species'], axis = 1)"
   ]
  },
  {
   "cell_type": "code",
   "execution_count": 3,
   "metadata": {
    "collapsed": true
   },
   "outputs": [],
   "source": [
    "stratified_shuffle_split = StratifiedShuffleSplit(labels, 10, test_size = 0.2, random_state = 23)\n",
    "\n",
    "for train_index, test_index in stratified_shuffle_split:\n",
    "    X_train, X_test = train_df.values[train_index], train_df.values[test_index]\n",
    "    y_train, y_test = labels[train_index], labels[test_index]"
   ]
  },
  {
   "cell_type": "code",
   "execution_count": null,
   "metadata": {
    "collapsed": false
   },
   "outputs": [
    {
     "name": "stdout",
     "output_type": "stream",
     "text": [
      "LinearDiscriminantAnalysis\n",
      "Accuracy: 97.9797979798%\n",
      "Log Loss: 0.930197776314\n",
      "\n",
      "\n",
      "QuadraticDiscriminantAnalysis\n",
      "Accuracy: 4.0404040404%\n",
      "Log Loss: 33.1432702779\n",
      "\n",
      "\n",
      "KNeighborsClassifier\n",
      "Accuracy: 88.8888888889%\n",
      "Log Loss: 1.57550751299\n",
      "\n",
      "\n",
      "SVC\n",
      "Accuracy: 81.8181818182%\n",
      "Log Loss: 4.64894619224\n",
      "\n",
      "\n",
      "NuSVC\n",
      "Accuracy: 88.3838383838%\n",
      "Log Loss: 2.48866143019\n",
      "\n",
      "\n",
      "AdaBoostClassifier\n",
      "Accuracy: 4.0404040404%\n",
      "Log Loss: 4.20721577649\n",
      "\n",
      "\n"
     ]
    }
   ],
   "source": [
    "classifiers = [\n",
    "    LinearDiscriminantAnalysis(),\n",
    "    QuadraticDiscriminantAnalysis(),\n",
    "    KNeighborsClassifier(3),\n",
    "    SVC(kernel=\"rbf\", C=0.025, probability=True),\n",
    "    NuSVC(probability=True),\n",
    "    AdaBoostClassifier(),\n",
    "    GradientBoostingClassifier(),\n",
    "    RandomForestClassifier(),\n",
    "    DecisionTreeClassifier(),\n",
    "    GaussianNB()\n",
    "]\n",
    "\n",
    "for clf in classifiers:\n",
    "    clf.fit(X_train, y_train)\n",
    "    \n",
    "    print(clf.__class__.__name__)\n",
    "    \n",
    "    #Accuracy of the model\n",
    "    predictions = clf.predict(X_test)\n",
    "    accuracy = accuracy_score(y_test, predictions) * 100\n",
    "    print(\"Accuracy: \" + str(accuracy) + \"%\")\n",
    "    \n",
    "    #Log loss of the model\n",
    "    predictions = clf.predict_proba(X_test)\n",
    "    logloss = log_loss(y_test, predictions)\n",
    "    print(\"Log Loss: \" + str(logloss) + \"\\n\\n\")"
   ]
  },
  {
   "cell_type": "code",
   "execution_count": null,
   "metadata": {
    "collapsed": true
   },
   "outputs": [],
   "source": []
  }
 ],
 "metadata": {
  "anaconda-cloud": {},
  "kernelspec": {
   "display_name": "Python [default]",
   "language": "python",
   "name": "python3"
  },
  "language_info": {
   "codemirror_mode": {
    "name": "ipython",
    "version": 3
   },
   "file_extension": ".py",
   "mimetype": "text/x-python",
   "name": "python",
   "nbconvert_exporter": "python",
   "pygments_lexer": "ipython3",
   "version": "3.5.2"
  }
 },
 "nbformat": 4,
 "nbformat_minor": 1
}
